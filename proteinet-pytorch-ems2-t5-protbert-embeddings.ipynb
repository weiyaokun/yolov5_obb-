{
 "cells": [
  {
   "cell_type": "markdown",
   "id": "f2f58ba0",
   "metadata": {
    "papermill": {
     "duration": 0.011122,
     "end_time": "2023-05-23T19:49:28.262229",
     "exception": false,
     "start_time": "2023-05-23T19:49:28.251107",
     "status": "completed"
    },
    "tags": []
   },
   "source": [
    "# CAFA 5 Competition : Protein Function Prediction"
   ]
  },
  {
   "cell_type": "markdown",
   "id": "2eca6fb7",
   "metadata": {
    "papermill": {
     "duration": 0.010147,
     "end_time": "2023-05-23T19:49:28.282978",
     "exception": false,
     "start_time": "2023-05-23T19:49:28.272831",
     "status": "completed"
    },
    "tags": []
   },
   "source": [
    "# Problem Framing"
   ]
  },
  {
   "cell_type": "markdown",
   "id": "ddde62e7",
   "metadata": {
    "papermill": {
     "duration": 0.010202,
     "end_time": "2023-05-23T19:49:28.304002",
     "exception": false,
     "start_time": "2023-05-23T19:49:28.293800",
     "status": "completed"
    },
    "tags": []
   },
   "source": [
    "This Kaggle competition aims to predict the function of proteins using their amino-acid sequences and additional data. Understanding protein function is crucial for comprehending cellular processes and developing new treatments for diseases. With the abundance of genomic sequence data available, assigning accurate biological functions to proteins becomes challenging due to their multifunctionality and interactions with various partners. This competition, hosted by the Function Community of Special Interest (Function-COSI), brings together computational biologists, experimental biologists, and biocurators to improve protein function prediction through data science and machine learning approaches. The goal is to contribute to advancements in medicine, agriculture, and overall human and animal health."
   ]
  },
  {
   "cell_type": "markdown",
   "id": "ba60faec",
   "metadata": {
    "papermill": {
     "duration": 0.010171,
     "end_time": "2023-05-23T19:49:28.324600",
     "exception": false,
     "start_time": "2023-05-23T19:49:28.314429",
     "status": "completed"
    },
    "tags": []
   },
   "source": [
    "![image-intro](https://upload.wikimedia.org/wikipedia/commons/thumb/4/4a/Computational_solvent_mapping_of_AMA1_using_FTMAP.TIF/lossy-page1-500px-Computational_solvent_mapping_of_AMA1_using_FTMAP.TIF.jpg)"
   ]
  },
  {
   "cell_type": "markdown",
   "id": "38bd64c1",
   "metadata": {
    "papermill": {
     "duration": 0.01013,
     "end_time": "2023-05-23T19:49:28.345116",
     "exception": false,
     "start_time": "2023-05-23T19:49:28.334986",
     "status": "completed"
    },
    "tags": []
   },
   "source": [
    "# What to submit ?"
   ]
  },
  {
   "cell_type": "markdown",
   "id": "7aabbe29",
   "metadata": {
    "papermill": {
     "duration": 0.01016,
     "end_time": "2023-05-23T19:49:28.365639",
     "exception": false,
     "start_time": "2023-05-23T19:49:28.355479",
     "status": "completed"
    },
    "tags": []
   },
   "source": [
    "This competition evaluates participants' predictions of Gene Ontology (GO) terms for protein sequences. The evaluation is performed on a test set of proteins that initially have no assigned functions but may accumulate experimental annotations after the submission deadline. The test set is divided into three subontologies: Molecular Function (MF), Biological Process (BP), and Cellular Component (CC). Participants are scored separately for each subontology. The final performance measure is the arithmetic mean of the maximum F-measures calculated on the three subontologies. Weighted precision and recall are used, taking into account the hierarchical structure of the GO. The evaluation code is publicly available. The leaderboard displays performance on a subset of proteins not included in the final test set, so generalization performance is crucial. Submission files should contain protein-target pairs with corresponding GO terms and estimated probabilities, within a specific score range. The predictions are propagated to parent terms if not explicitly listed. There is a limit on the number of terms associated with each protein. If a protein is not listed in the submission file, it is assumed that all predictions for that protein are zero."
   ]
  },
  {
   "cell_type": "code",
   "execution_count": 1,
   "id": "1583c3c9",
   "metadata": {
    "execution": {
     "iopub.execute_input": "2023-05-23T19:49:28.388834Z",
     "iopub.status.busy": "2023-05-23T19:49:28.388058Z",
     "iopub.status.idle": "2023-05-23T19:49:28.655520Z",
     "shell.execute_reply": "2023-05-23T19:49:28.654658Z"
    },
    "papermill": {
     "duration": 0.281857,
     "end_time": "2023-05-23T19:49:28.657870",
     "exception": false,
     "start_time": "2023-05-23T19:49:28.376013",
     "status": "completed"
    },
    "tags": []
   },
   "outputs": [
    {
     "data": {
      "text/html": [
       "<div>\n",
       "<style scoped>\n",
       "    .dataframe tbody tr th:only-of-type {\n",
       "        vertical-align: middle;\n",
       "    }\n",
       "\n",
       "    .dataframe tbody tr th {\n",
       "        vertical-align: top;\n",
       "    }\n",
       "\n",
       "    .dataframe thead th {\n",
       "        text-align: right;\n",
       "    }\n",
       "</style>\n",
       "<table border=\"1\" class=\"dataframe\">\n",
       "  <thead>\n",
       "    <tr style=\"text-align: right;\">\n",
       "      <th></th>\n",
       "      <th>The Protein ID</th>\n",
       "      <th>The Gene Ontology term (GO) ID</th>\n",
       "      <th>Predicted link probability that GO appear in Protein</th>\n",
       "    </tr>\n",
       "  </thead>\n",
       "  <tbody>\n",
       "    <tr>\n",
       "      <th>0</th>\n",
       "      <td>A0A0A0MRZ7</td>\n",
       "      <td>GO:0000001</td>\n",
       "      <td>0.123</td>\n",
       "    </tr>\n",
       "    <tr>\n",
       "      <th>1</th>\n",
       "      <td>A0A0A0MRZ7</td>\n",
       "      <td>GO:0000002</td>\n",
       "      <td>0.123</td>\n",
       "    </tr>\n",
       "    <tr>\n",
       "      <th>2</th>\n",
       "      <td>A0A0A0MRZ8</td>\n",
       "      <td>GO:0000001</td>\n",
       "      <td>0.123</td>\n",
       "    </tr>\n",
       "    <tr>\n",
       "      <th>3</th>\n",
       "      <td>A0A0A0MRZ8</td>\n",
       "      <td>GO:0000002</td>\n",
       "      <td>0.123</td>\n",
       "    </tr>\n",
       "    <tr>\n",
       "      <th>4</th>\n",
       "      <td>A0A0A0MRZ9</td>\n",
       "      <td>GO:0000001</td>\n",
       "      <td>0.123</td>\n",
       "    </tr>\n",
       "  </tbody>\n",
       "</table>\n",
       "</div>"
      ],
      "text/plain": [
       "  The Protein ID The Gene Ontology term (GO) ID  \\\n",
       "0     A0A0A0MRZ7                     GO:0000001   \n",
       "1     A0A0A0MRZ7                     GO:0000002   \n",
       "2     A0A0A0MRZ8                     GO:0000001   \n",
       "3     A0A0A0MRZ8                     GO:0000002   \n",
       "4     A0A0A0MRZ9                     GO:0000001   \n",
       "\n",
       "   Predicted link probability that GO appear in Protein  \n",
       "0                                              0.123     \n",
       "1                                              0.123     \n",
       "2                                              0.123     \n",
       "3                                              0.123     \n",
       "4                                              0.123     "
      ]
     },
     "execution_count": 1,
     "metadata": {},
     "output_type": "execute_result"
    }
   ],
   "source": [
    "import pandas as pd\n",
    "sub = pd.read_csv(\"/kaggle/input/cafa-5-protein-function-prediction/sample_submission.tsv\", sep= \"\\t\", header = None)\n",
    "sub.columns = [\"The Protein ID\", \"The Gene Ontology term (GO) ID\", \"Predicted link probability that GO appear in Protein\"]\n",
    "sub.head(5)"
   ]
  },
  {
   "cell_type": "markdown",
   "id": "8e3dec7a",
   "metadata": {
    "papermill": {
     "duration": 0.010585,
     "end_time": "2023-05-23T19:49:28.679379",
     "exception": false,
     "start_time": "2023-05-23T19:49:28.668794",
     "status": "completed"
    },
    "tags": []
   },
   "source": [
    "The evaluation metric used in this competition is the weighted F-measure, which combines precision and recall, taking into account the hierarchical structure of the Gene Ontology (GO). The formula for calculating the weighted F-measure is as follows:\n",
    "\n",
    "$Weighted \\ F-measure = \\frac{(1 + β^2) * (weighted \\ precision * weighted recall)}{((β^2 * weighted \\ precision) + weighted \\ recall)}$\n",
    "\n",
    "where:\n",
    "- β is a parameter that controls the trade-off between precision and recall. In this competition, β is set to 1, resulting in an equal weighting of precision and recall.\n",
    "- Weighted precision is the precision score, considering the weights of the predicted terms. It is calculated as the sum of the products of the predicted term's weight and its true positive count, divided by the sum of the weights of all predicted terms.\n",
    "- Weighted recall is the recall score, considering the weights of the true positive terms. It is calculated as the sum of the products of the true positive term's weight and its count, divided by the sum of the weights of all true positive terms.\n",
    "\n",
    "Note: The specific formulas for weighted precision and weighted recall are provided in the competition materials and utilize additional information such as term weights and true positive counts."
   ]
  },
  {
   "cell_type": "markdown",
   "id": "004d1a8e",
   "metadata": {
    "papermill": {
     "duration": 0.010461,
     "end_time": "2023-05-23T19:49:28.700505",
     "exception": false,
     "start_time": "2023-05-23T19:49:28.690044",
     "status": "completed"
    },
    "tags": []
   },
   "source": [
    "# General Baseline in this Notebook"
   ]
  },
  {
   "cell_type": "markdown",
   "id": "31deb13d",
   "metadata": {
    "papermill": {
     "duration": 0.010326,
     "end_time": "2023-05-23T19:49:28.721406",
     "exception": false,
     "start_time": "2023-05-23T19:49:28.711080",
     "status": "completed"
    },
    "tags": []
   },
   "source": [
    "- **1 - Collect Embedding vectors from pre-trained protein function prediction models (T5, ProtBERT or EMS2) :**\n",
    "\n",
    "Sources for embeddings vectors : \n",
    "- *T5* : https://www.kaggle.com/datasets/sergeifironov/t5embeds\n",
    "\n",
    "- *ProtBERT* : https://www.kaggle.com/datasets/henriupton/protbert-embeddings-for-cafa5\n",
    "\n",
    "- *EMS2* : https://www.kaggle.com/datasets/viktorfairuschin/cafa-5-ems-2-embeddings-numpy\n",
    "\n",
    "- **2 - Generate labels from train_terms file** : by considering the top K most common GO terms in all Proteins set, generate for each protein a sparse vector of length K to indicate the true probabilities that each of the K GO terms are in the Protein (0 or 1). Here we retain K = 600\n",
    "\n",
    "- **3 - Create Pytorch Dataset class that can handle Protein ID and embeddings**.\n",
    "\n",
    "- **4 - Create Pytorch Model class for prediction** : can be any architecture of Multilabel classification model that can turn embeddings of shape (E,) to probabilities of shape (K,). Here we explore **MultiLayerPerceptron** and **ConvNN1d** Networks.\n",
    "\n",
    "- **5 - Make Cross Validation w.r.t the F-1 measure and do Hyperparameter tuning thanks to Weights and Biases package (Wandb)**"
   ]
  },
  {
   "cell_type": "markdown",
   "id": "300865ad",
   "metadata": {
    "papermill": {
     "duration": 0.010282,
     "end_time": "2023-05-23T19:49:28.742247",
     "exception": false,
     "start_time": "2023-05-23T19:49:28.731965",
     "status": "completed"
    },
    "tags": []
   },
   "source": [
    "![baseline-image](https://www.researchgate.net/publication/334642149/figure/fig1/AS:783995214249986@1563930433525/Flow-chart-of-STRING2GO-based-protein-function-prediction-method.png)\n",
    "\n",
    "## **Flow-chart of STRING2GO-based protein function prediction method**"
   ]
  },
  {
   "cell_type": "markdown",
   "id": "5d011680",
   "metadata": {
    "papermill": {
     "duration": 0.010268,
     "end_time": "2023-05-23T19:49:28.762969",
     "exception": false,
     "start_time": "2023-05-23T19:49:28.752701",
     "status": "completed"
    },
    "tags": []
   },
   "source": [
    "# So now lets get started !"
   ]
  },
  {
   "cell_type": "markdown",
   "id": "d0815eae",
   "metadata": {
    "papermill": {
     "duration": 0.010355,
     "end_time": "2023-05-23T19:49:28.783784",
     "exception": false,
     "start_time": "2023-05-23T19:49:28.773429",
     "status": "completed"
    },
    "tags": []
   },
   "source": [
    "# 1. Imports / Config"
   ]
  },
  {
   "cell_type": "code",
   "execution_count": 2,
   "id": "715a4098",
   "metadata": {
    "_cell_guid": "b1076dfc-b9ad-4769-8c92-a6c4dae69d19",
    "_uuid": "8f2839f25d086af736a60e9eeb907d3b93b6e0e5",
    "execution": {
     "iopub.execute_input": "2023-05-23T19:49:28.806158Z",
     "iopub.status.busy": "2023-05-23T19:49:28.805812Z",
     "iopub.status.idle": "2023-05-23T19:49:42.461000Z",
     "shell.execute_reply": "2023-05-23T19:49:42.460059Z"
    },
    "papermill": {
     "duration": 13.669208,
     "end_time": "2023-05-23T19:49:42.463457",
     "exception": false,
     "start_time": "2023-05-23T19:49:28.794249",
     "status": "completed"
    },
    "tags": []
   },
   "outputs": [
    {
     "name": "stderr",
     "output_type": "stream",
     "text": [
      "/opt/conda/lib/python3.10/site-packages/scipy/__init__.py:146: UserWarning: A NumPy version >=1.16.5 and <1.23.0 is required for this version of SciPy (detected version 1.23.5\n",
      "  warnings.warn(f\"A NumPy version >={np_minversion} and <{np_maxversion}\"\n"
     ]
    },
    {
     "name": "stdout",
     "output_type": "stream",
     "text": [
      "/kaggle/input/protbert-embeddings-for-cafa5/train_ids.npy\n",
      "/kaggle/input/protbert-embeddings-for-cafa5/train_embeddings.npy\n",
      "/kaggle/input/protbert-embeddings-for-cafa5/test_ids.npy\n",
      "/kaggle/input/protbert-embeddings-for-cafa5/test_embeddings.npy\n",
      "/kaggle/input/t5embeds/train_ids.npy\n",
      "/kaggle/input/t5embeds/test_embeds.npy\n",
      "/kaggle/input/t5embeds/train_embeds.npy\n",
      "/kaggle/input/t5embeds/test_ids.npy\n",
      "/kaggle/input/cafa-5-protein-function-prediction/sample_submission.tsv\n",
      "/kaggle/input/cafa-5-protein-function-prediction/IA.txt\n",
      "/kaggle/input/cafa-5-protein-function-prediction/Test (Targets)/testsuperset.fasta\n",
      "/kaggle/input/cafa-5-protein-function-prediction/Test (Targets)/testsuperset-taxon-list.tsv\n",
      "/kaggle/input/cafa-5-protein-function-prediction/Train/train_terms.tsv\n",
      "/kaggle/input/cafa-5-protein-function-prediction/Train/train_sequences.fasta\n",
      "/kaggle/input/cafa-5-protein-function-prediction/Train/train_taxonomy.tsv\n",
      "/kaggle/input/cafa-5-protein-function-prediction/Train/go-basic.obo\n",
      "/kaggle/input/train-targets-top500/train_targets_top500.pkl\n",
      "/kaggle/input/cafa-5-ems-2-embeddings-numpy/train_ids.npy\n",
      "/kaggle/input/cafa-5-ems-2-embeddings-numpy/train_embeddings.npy\n",
      "/kaggle/input/cafa-5-ems-2-embeddings-numpy/test_ids.npy\n",
      "/kaggle/input/cafa-5-ems-2-embeddings-numpy/test_embeddings.npy\n"
     ]
    }
   ],
   "source": [
    "MAIN_DIR = \"/kaggle/input/cafa-5-protein-function-prediction\"\n",
    "\n",
    "# UTILITARIES\n",
    "import numpy as np\n",
    "from tqdm import tqdm\n",
    "import time\n",
    "import matplotlib.pyplot as plt\n",
    "plt.style.use('ggplot')\n",
    "\n",
    "# TORCH MODULES FOR METRICS COMPUTATION :\n",
    "import torch\n",
    "from torch.utils.data import Dataset\n",
    "from torch import nn\n",
    "from torch.utils.data import random_split\n",
    "from torch.optim.lr_scheduler import ReduceLROnPlateau\n",
    "from torchmetrics.classification import MultilabelF1Score\n",
    "from torchmetrics.classification import MultilabelAccuracy\n",
    "\n",
    "import pytorch_lightning as pl\n",
    "from pytorch_lightning import Trainer\n",
    "from pytorch_lightning.loggers import WandbLogger\n",
    "\n",
    "# WANDB FOR LIGHTNING :\n",
    "import wandb\n",
    "\n",
    "# FILES VISUALIZATION\n",
    "import os\n",
    "for dirname, _, filenames in os.walk('/kaggle/input'):\n",
    "    for filename in filenames:\n",
    "        print(os.path.join(dirname, filename))"
   ]
  },
  {
   "cell_type": "code",
   "execution_count": 3,
   "id": "29a8746e",
   "metadata": {
    "execution": {
     "iopub.execute_input": "2023-05-23T19:49:42.487126Z",
     "iopub.status.busy": "2023-05-23T19:49:42.486274Z",
     "iopub.status.idle": "2023-05-23T19:49:42.500379Z",
     "shell.execute_reply": "2023-05-23T19:49:42.499543Z"
    },
    "papermill": {
     "duration": 0.028081,
     "end_time": "2023-05-23T19:49:42.502555",
     "exception": false,
     "start_time": "2023-05-23T19:49:42.474474",
     "status": "completed"
    },
    "tags": []
   },
   "outputs": [],
   "source": [
    "class config:\n",
    "    train_sequences_path = MAIN_DIR  + \"/Train/train_sequences.fasta\"\n",
    "    train_labels_path = MAIN_DIR + \"/Train/train_terms.tsv\"\n",
    "    test_sequences_path = MAIN_DIR + \"/Test (Targets)/testsuperset.fasta\"\n",
    "    \n",
    "    num_labels = 500\n",
    "    n_epochs = 5\n",
    "    batch_size = 128\n",
    "    lr = 0.001\n",
    "    \n",
    "    device = torch.device('cuda' if torch.cuda.is_available() else 'cpu')"
   ]
  },
  {
   "cell_type": "code",
   "execution_count": 4,
   "id": "947fb85e",
   "metadata": {
    "execution": {
     "iopub.execute_input": "2023-05-23T19:49:42.525344Z",
     "iopub.status.busy": "2023-05-23T19:49:42.525043Z",
     "iopub.status.idle": "2023-05-23T19:49:42.529661Z",
     "shell.execute_reply": "2023-05-23T19:49:42.528811Z"
    },
    "papermill": {
     "duration": 0.018675,
     "end_time": "2023-05-23T19:49:42.531949",
     "exception": false,
     "start_time": "2023-05-23T19:49:42.513274",
     "status": "completed"
    },
    "tags": []
   },
   "outputs": [
    {
     "name": "stdout",
     "output_type": "stream",
     "text": [
      "cuda\n"
     ]
    }
   ],
   "source": [
    "print(config.device)"
   ]
  },
  {
   "cell_type": "markdown",
   "id": "8a86279c",
   "metadata": {
    "papermill": {
     "duration": 0.010505,
     "end_time": "2023-05-23T19:49:42.553248",
     "exception": false,
     "start_time": "2023-05-23T19:49:42.542743",
     "status": "completed"
    },
    "tags": []
   },
   "source": [
    "# 2. Baseline"
   ]
  },
  {
   "cell_type": "markdown",
   "id": "5bb0ec1e",
   "metadata": {
    "papermill": {
     "duration": 0.010498,
     "end_time": "2023-05-23T19:49:42.574556",
     "exception": false,
     "start_time": "2023-05-23T19:49:42.564058",
     "status": "completed"
    },
    "tags": []
   },
   "source": [
    "- Use ProtBERT/T5 embedding vectors for each Sequence ID and its associated Protein Sequence. \n",
    "\n",
    "- Define a Pytorch Dataset to load all ids/sequences of the train+test sets and their respective ProtBert embeddings\n",
    "\n",
    "- Define Pytorch Model architecture in order to use these embeddings to proceed classification task : to each ID we associate a probability to be associated to each GO term **For this part, just consider the top_n most common GO terms as labels**\n",
    "\n",
    "- Return desired probabilities for test set"
   ]
  },
  {
   "cell_type": "markdown",
   "id": "a702e7af",
   "metadata": {
    "papermill": {
     "duration": 0.010484,
     "end_time": "2023-05-23T19:49:42.595798",
     "exception": false,
     "start_time": "2023-05-23T19:49:42.585314",
     "status": "completed"
    },
    "tags": []
   },
   "source": [
    "# 3. Collect ProtBERT Embedding Vectors"
   ]
  },
  {
   "cell_type": "markdown",
   "id": "addf6745",
   "metadata": {
    "papermill": {
     "duration": 0.010516,
     "end_time": "2023-05-23T19:49:42.617169",
     "exception": false,
     "start_time": "2023-05-23T19:49:42.606653",
     "status": "completed"
    },
    "tags": []
   },
   "source": [
    "### Here is a Dataset Card I have created if you want to understand better what are pre-trained model embedding vectors, and if you want to download it directly from it : https://www.kaggle.com/datasets/henriupton/protbert-embeddings-for-cafa5"
   ]
  },
  {
   "cell_type": "markdown",
   "id": "828db465",
   "metadata": {
    "execution": {
     "iopub.execute_input": "2023-05-05T08:54:24.396067Z",
     "iopub.status.busy": "2023-05-05T08:54:24.395576Z",
     "iopub.status.idle": "2023-05-05T08:54:35.014197Z",
     "shell.execute_reply": "2023-05-05T08:54:35.012847Z",
     "shell.execute_reply.started": "2023-05-05T08:54:24.396028Z"
    },
    "papermill": {
     "duration": 0.01049,
     "end_time": "2023-05-23T19:49:42.638356",
     "exception": false,
     "start_time": "2023-05-23T19:49:42.627866",
     "status": "completed"
    },
    "tags": []
   },
   "source": [
    "##### SCRIPT FOR VECTOR EMBEDDINGS COLLECTING #####\n",
    "#### RUN THIS ONLY ONE TIME AND SAVE IT IN LOCAL ####\n",
    "\n",
    "```python\n",
    "\n",
    "print(\"Load ProtBERT Model...\")\n",
    "# PROT BERT LOADING :\n",
    "from transformers import BertModel, BertTokenizer\n",
    "tokenizer = BertTokenizer.from_pretrained(\"Rostlab/prot_bert\", do_lower_case=False )\n",
    "model = BertModel.from_pretrained(\"Rostlab/prot_bert\").to(config.device)\n",
    "\n",
    "def get_bert_embedding(\n",
    "    sequence : str,\n",
    "    len_seq_limit : int\n",
    "):\n",
    "    '''\n",
    "    Function to collect last hidden state embedding vector from pre-trained ProtBERT Model\n",
    "    \n",
    "    INPUTS:\n",
    "    - sequence (str) : protein sequence (ex : AAABBB) from fasta file\n",
    "    - len_seq_limit (int) : maximum sequence lenght (i.e nb of letters) for truncation\n",
    "    \n",
    "    OUTPUTS:\n",
    "    - output_hidden : last hidden state embedding vector for input sequence of length 1024\n",
    "    '''\n",
    "    sequence_w_spaces = ' '.join(list(sequence))\n",
    "    encoded_input = tokenizer(\n",
    "        sequence_w_spaces,\n",
    "        truncation=True,\n",
    "        max_length=len_seq_limit,\n",
    "        padding='max_length',\n",
    "        return_tensors='pt').to(config.device)\n",
    "    output = model(**encoded_input)\n",
    "    output_hidden = output['last_hidden_state'][:,0][0].detach().cpu().numpy()\n",
    "    assert len(output_hidden)==1024\n",
    "    return output_hidden\n",
    "\n",
    "### COLLECTING FOR TRAIN SAMPLES :\n",
    "print(\"Loading train set ProtBERT Embeddings...\")\n",
    "fasta_train = SeqIO.parse(config.train_sequences_path, \"fasta\")\n",
    "print(\"Total Nb of Elements : \", len(list(fasta_train)))\n",
    "fasta_train = SeqIO.parse(config.train_sequences_path, \"fasta\")\n",
    "ids_list = []\n",
    "embed_vects_list = []\n",
    "t0 = time.time()\n",
    "checkpoint = 0\n",
    "for item in tqdm(fasta_train):\n",
    "    ids_list.append(item.id)\n",
    "    embed_vects_list.append(\n",
    "        get_bert_embedding(sequence = item.seq, len_seq_limit = 1200))\n",
    "    checkpoint+=1\n",
    "    if checkpoint>=100:\n",
    "        df_res = pd.DataFrame(data={\"id\" : ids_list, \"embed_vect\" : embed_vects_list})\n",
    "        np.save('/kaggle/working/train_ids.npy',np.array(ids_list))\n",
    "        np.save('/kaggle/working/train_embeddings.npy',np.array(embed_vects_list))\n",
    "        checkpoint=0\n",
    "        \n",
    "np.save('/kaggle/working/train_ids.npy',np.array(ids_list))\n",
    "np.save('/kaggle/working/train_embeddings.npy',np.array(embed_vects_list))\n",
    "print('Total Elapsed Time:',time.time()-t0)\n",
    "\n",
    "### COLLECTING FOR TEST SAMPLES :\n",
    "print(\"Loading test set ProtBERT Embeddings...\")\n",
    "fasta_test = SeqIO.parse(config.test_sequences_path, \"fasta\")\n",
    "print(\"Total Nb of Elements : \", len(list(fasta_test)))\n",
    "fasta_test = SeqIO.parse(config.test_sequences_path, \"fasta\")\n",
    "ids_list = []\n",
    "embed_vects_list = []\n",
    "t0 = time.time()\n",
    "checkpoint=0\n",
    "for item in tqdm(fasta_test):\n",
    "    ids_list.append(item.id)\n",
    "    embed_vects_list.append(\n",
    "        get_bert_embedding(sequence = item.seq, len_seq_limit = 1200))\n",
    "    checkpoint+=1\n",
    "    if checkpoint>=100:\n",
    "        np.save('/kaggle/working/test_ids.npy',np.array(ids_list))\n",
    "        np.save('/kaggle/working/test_embeddings.npy',np.array(embed_vects_list))\n",
    "        checkpoint=0\n",
    "        \n",
    "np.save('/kaggle/working/test_ids.npy',np.array(ids_list))\n",
    "np.save('/kaggle/working/test_embeddings.npy',np.array(embed_vects_list))\n",
    "print('Total Elasped Time:',time.time()-t0)\n",
    "```"
   ]
  },
  {
   "cell_type": "markdown",
   "id": "9a419aac",
   "metadata": {
    "papermill": {
     "duration": 0.010525,
     "end_time": "2023-05-23T19:49:42.659662",
     "exception": false,
     "start_time": "2023-05-23T19:49:42.649137",
     "status": "completed"
    },
    "tags": []
   },
   "source": [
    "# 4. Collect labels vectors for train/test"
   ]
  },
  {
   "cell_type": "markdown",
   "id": "fdc69680",
   "metadata": {
    "execution": {
     "iopub.execute_input": "2023-05-11T17:45:22.691183Z",
     "iopub.status.busy": "2023-05-11T17:45:22.690593Z",
     "iopub.status.idle": "2023-05-11T17:45:24.979748Z",
     "shell.execute_reply": "2023-05-11T17:45:24.978075Z",
     "shell.execute_reply.started": "2023-05-11T17:45:22.691147Z"
    },
    "papermill": {
     "duration": 0.01053,
     "end_time": "2023-05-23T19:49:42.680929",
     "exception": false,
     "start_time": "2023-05-23T19:49:42.670399",
     "status": "completed"
    },
    "tags": []
   },
   "source": [
    "##### SCRIPT FOR LABELS (TARGETS) VECTORS COLLECTING #####\n",
    "#### RUN THIS ONLY ONE TIME AND SAVE IT IN LOCAL ####\n",
    "\n",
    "```python\n",
    "print(\"GENERATE TARGETS FOR ENTRY IDS (\"+str(config.num_labels)+\" MOST COMMON GO TERMS)\")\n",
    "ids = np.load(\"/kaggle/input/protbert-embeddings-for-cafa5/train_ids.npy\")\n",
    "labels = pd.read_csv(config.train_labels_path, sep = \"\\t\")\n",
    "\n",
    "top_terms = labels.groupby(\"term\")[\"EntryID\"].count().sort_values(ascending=False)\n",
    "labels_names = top_terms[:config.num_labels].index.values\n",
    "train_labels_sub = labels[(labels.term.isin(labels_names)) & (labels.EntryID.isin(ids))]\n",
    "id_labels = train_labels_sub.groupby('EntryID')['term'].apply(list).to_dict()\n",
    "\n",
    "go_terms_map = {label: i for i, label in enumerate(labels_names)}\n",
    "labels_matrix = np.empty((len(ids), len(labels_names)))\n",
    "\n",
    "for index, id in tqdm(enumerate(ids)):\n",
    "    id_gos_list = id_labels[id]\n",
    "    temp = [go_terms_map[go] for go in labels_names if go in id_gos_list]\n",
    "    labels_matrix[index, temp] = 1\n",
    "\n",
    "np.save(\"/kaggle/working/train_targets_top\"+str(config.num_labels)+\".npy\", np.array(labels_matrix))\n",
    "print(\"GENERATION FINISHED!\")\n",
    "```"
   ]
  },
  {
   "cell_type": "markdown",
   "id": "59200c98",
   "metadata": {
    "papermill": {
     "duration": 0.010576,
     "end_time": "2023-05-23T19:49:42.702421",
     "exception": false,
     "start_time": "2023-05-23T19:49:42.691845",
     "status": "completed"
    },
    "tags": []
   },
   "source": [
    "# 5. Pytorch Dataset Architecture"
   ]
  },
  {
   "cell_type": "code",
   "execution_count": 5,
   "id": "19369d53",
   "metadata": {
    "execution": {
     "iopub.execute_input": "2023-05-23T19:49:42.725437Z",
     "iopub.status.busy": "2023-05-23T19:49:42.725057Z",
     "iopub.status.idle": "2023-05-23T19:49:42.730031Z",
     "shell.execute_reply": "2023-05-23T19:49:42.729161Z"
    },
    "papermill": {
     "duration": 0.018834,
     "end_time": "2023-05-23T19:49:42.731989",
     "exception": false,
     "start_time": "2023-05-23T19:49:42.713155",
     "status": "completed"
    },
    "tags": []
   },
   "outputs": [],
   "source": [
    "# Directories for the different embedding vectors : \n",
    "embeds_map = {\n",
    "    \"T5\" : \"t5embeds\",\n",
    "    \"ProtBERT\" : \"protbert-embeddings-for-cafa5\",\n",
    "    \"EMS2\" : \"cafa-5-ems-2-embeddings-numpy\"\n",
    "}\n",
    "\n",
    "# Length of the different embedding vectors :\n",
    "embeds_dim = {\n",
    "    \"T5\" : 1024,\n",
    "    \"ProtBERT\" : 1024,\n",
    "    \"EMS2\" : 1280\n",
    "}"
   ]
  },
  {
   "cell_type": "code",
   "execution_count": 6,
   "id": "06a97019",
   "metadata": {
    "execution": {
     "iopub.execute_input": "2023-05-23T19:49:42.755102Z",
     "iopub.status.busy": "2023-05-23T19:49:42.754330Z",
     "iopub.status.idle": "2023-05-23T19:49:42.765502Z",
     "shell.execute_reply": "2023-05-23T19:49:42.764704Z"
    },
    "papermill": {
     "duration": 0.024606,
     "end_time": "2023-05-23T19:49:42.767403",
     "exception": false,
     "start_time": "2023-05-23T19:49:42.742797",
     "status": "completed"
    },
    "tags": []
   },
   "outputs": [],
   "source": [
    "class ProteinSequenceDataset(Dataset):\n",
    "    \n",
    "    def __init__(self, datatype, embeddings_source):\n",
    "        super(ProteinSequenceDataset).__init__()\n",
    "        self.datatype = datatype\n",
    "        \n",
    "        if embeddings_source in [\"ProtBERT\", \"EMS2\"]:\n",
    "            embeds = np.load(\"/kaggle/input/\"+embeds_map[embeddings_source]+\"/\"+datatype+\"_embeddings.npy\")\n",
    "            ids = np.load(\"/kaggle/input/\"+embeds_map[embeddings_source]+\"/\"+datatype+\"_ids.npy\")\n",
    "        \n",
    "        if embeddings_source == \"T5\":\n",
    "            embeds = np.load(\"/kaggle/input/\"+embeds_map[embeddings_source]+\"/\"+datatype+\"_embeds.npy\")\n",
    "            ids = np.load(\"/kaggle/input/\"+embeds_map[embeddings_source]+\"/\"+datatype+\"_ids.npy\")\n",
    "            \n",
    "        embeds_list = []\n",
    "        for l in range(embeds.shape[0]):\n",
    "            embeds_list.append(embeds[l,:])\n",
    "        self.df = pd.DataFrame(data={\"EntryID\": ids, \"embed\" : embeds_list})\n",
    "        \n",
    "        if datatype==\"train\":\n",
    "            df_labels = pd.read_pickle(\n",
    "                \"/kaggle/input/train-targets-top\"+str(config.num_labels)+ \\\n",
    "                \"/train_targets_top\"+str(config.num_labels)+\".pkl\")\n",
    "            self.df = self.df.merge(df_labels, on=\"EntryID\")\n",
    "        \n",
    "    def __len__(self):\n",
    "        return len(self.df)\n",
    "    \n",
    "    def __getitem__(self, index):\n",
    "        embed = torch.tensor(self.df.iloc[index][\"embed\"] , dtype = torch.float32)\n",
    "        if self.datatype==\"train\":\n",
    "            targets = torch.tensor(self.df.iloc[index][\"labels_vect\"], dtype = torch.float32)\n",
    "            return embed, targets\n",
    "        if self.datatype==\"test\":\n",
    "            id = self.df.iloc[index][\"EntryID\"]\n",
    "            return embed, id\n",
    "        "
   ]
  },
  {
   "cell_type": "markdown",
   "id": "e86d6d31",
   "metadata": {
    "papermill": {
     "duration": 0.010519,
     "end_time": "2023-05-23T19:49:42.788815",
     "exception": false,
     "start_time": "2023-05-23T19:49:42.778296",
     "status": "completed"
    },
    "tags": []
   },
   "source": [
    "# 6. Pytorch Models Architectures"
   ]
  },
  {
   "cell_type": "code",
   "execution_count": 7,
   "id": "26507d74",
   "metadata": {
    "execution": {
     "iopub.execute_input": "2023-05-23T19:49:42.811906Z",
     "iopub.status.busy": "2023-05-23T19:49:42.811094Z",
     "iopub.status.idle": "2023-05-23T19:49:42.818228Z",
     "shell.execute_reply": "2023-05-23T19:49:42.817424Z"
    },
    "papermill": {
     "duration": 0.020646,
     "end_time": "2023-05-23T19:49:42.820167",
     "exception": false,
     "start_time": "2023-05-23T19:49:42.799521",
     "status": "completed"
    },
    "tags": []
   },
   "outputs": [],
   "source": [
    "class MultiLayerPerceptron(torch.nn.Module):\n",
    "\n",
    "    def __init__(self, input_dim, num_classes):\n",
    "        super(MultiLayerPerceptron, self).__init__()\n",
    "\n",
    "        self.linear1 = torch.nn.Linear(input_dim, 1012)\n",
    "        self.activation1 = torch.nn.ReLU()\n",
    "        self.linear2 = torch.nn.Linear(1012, 712)\n",
    "        self.activation2 = torch.nn.ReLU()\n",
    "        self.linear3 = torch.nn.Linear(712, num_classes)\n",
    "\n",
    "    def forward(self, x):\n",
    "        x = self.linear1(x)\n",
    "        x = self.activation1(x)\n",
    "        x = self.linear2(x)\n",
    "        x = self.activation2(x)\n",
    "        x = self.linear3(x)\n",
    "        return x"
   ]
  },
  {
   "cell_type": "code",
   "execution_count": 8,
   "id": "e5d98b72",
   "metadata": {
    "execution": {
     "iopub.execute_input": "2023-05-23T19:49:42.843292Z",
     "iopub.status.busy": "2023-05-23T19:49:42.842519Z",
     "iopub.status.idle": "2023-05-23T19:49:42.851598Z",
     "shell.execute_reply": "2023-05-23T19:49:42.850789Z"
    },
    "papermill": {
     "duration": 0.022564,
     "end_time": "2023-05-23T19:49:42.853519",
     "exception": false,
     "start_time": "2023-05-23T19:49:42.830955",
     "status": "completed"
    },
    "tags": []
   },
   "outputs": [],
   "source": [
    "class CNN1D(nn.Module):\n",
    "    def __init__(self, input_dim, num_classes):\n",
    "        super(CNN1D, self).__init__()\n",
    "        # (batch_size, channels, embed_size)\n",
    "        self.conv1 = nn.Conv1d(in_channels=1, out_channels=3, kernel_size=3, dilation=1, padding=1, stride=1)\n",
    "        # (batch_size, 3, embed_size)\n",
    "        self.pool1 = nn.MaxPool1d(kernel_size=2, stride=2)\n",
    "        # (batch_size, 3, embed_size/2 = 512)\n",
    "        self.conv2 = nn.Conv1d(in_channels=3, out_channels=8, kernel_size=3, dilation=1, padding=1, stride=1)\n",
    "        # (batch_size, 8, embed_size/2 = 512)\n",
    "        self.pool2 = nn.MaxPool1d(kernel_size=2, stride=2)\n",
    "        # (batch_size, 8, embed_size/4 = 256)\n",
    "        self.fc1 = nn.Linear(in_features=int(8 * input_dim/4), out_features=128)\n",
    "        self.fc2 = nn.Linear(in_features=128, out_features=num_classes)\n",
    "\n",
    "    def forward(self, x):\n",
    "        x = x.reshape(x.shape[0], 1, x.shape[1])\n",
    "        x = self.pool1(nn.functional.relu(self.conv1(x)))\n",
    "        x = self.pool2(nn.functional.relu(self.conv2(x)))\n",
    "        x = torch.flatten(x, 1)\n",
    "        x = nn.functional.relu(self.fc1(x))\n",
    "        x = self.fc2(x)\n",
    "        return x\n"
   ]
  },
  {
   "cell_type": "markdown",
   "id": "7626b4c1",
   "metadata": {
    "papermill": {
     "duration": 0.010512,
     "end_time": "2023-05-23T19:49:42.874846",
     "exception": false,
     "start_time": "2023-05-23T19:49:42.864334",
     "status": "completed"
    },
    "tags": []
   },
   "source": [
    "# 7. Train the Model"
   ]
  },
  {
   "cell_type": "code",
   "execution_count": 9,
   "id": "89c9aaba",
   "metadata": {
    "execution": {
     "iopub.execute_input": "2023-05-23T19:49:42.897729Z",
     "iopub.status.busy": "2023-05-23T19:49:42.897263Z",
     "iopub.status.idle": "2023-05-23T19:49:42.913570Z",
     "shell.execute_reply": "2023-05-23T19:49:42.912769Z"
    },
    "papermill": {
     "duration": 0.030054,
     "end_time": "2023-05-23T19:49:42.915585",
     "exception": false,
     "start_time": "2023-05-23T19:49:42.885531",
     "status": "completed"
    },
    "tags": []
   },
   "outputs": [],
   "source": [
    "def train_model(embeddings_source, model_type=\"linear\", train_size=0.9):\n",
    "    \n",
    "    train_dataset = ProteinSequenceDataset(datatype=\"train\", embeddings_source = embeddings_source)\n",
    "    \n",
    "    train_set, val_set = random_split(train_dataset, lengths = [int(len(train_dataset)*train_size), len(train_dataset)-int(len(train_dataset)*train_size)])\n",
    "    train_dataloader = torch.utils.data.DataLoader(train_set, batch_size=config.batch_size, shuffle=True)\n",
    "    val_dataloader = torch.utils.data.DataLoader(val_set, batch_size=config.batch_size, shuffle=True)\n",
    "\n",
    "    if model_type == \"linear\":\n",
    "        model = MultiLayerPerceptron(input_dim=embeds_dim[embeddings_source], num_classes=config.num_labels).to(config.device)\n",
    "    if model_type == \"convolutional\":\n",
    "        model = CNN1D(input_dim=embeds_dim[embeddings_source], num_classes=config.num_labels).to(config.device)\n",
    "\n",
    "    optimizer = torch.optim.Adam(model.parameters(), lr = config.lr)\n",
    "    scheduler = ReduceLROnPlateau(optimizer, factor=0.1, patience=1)\n",
    "    CrossEntropy = torch.nn.CrossEntropyLoss()\n",
    "    f1_score = MultilabelF1Score(num_labels=config.num_labels).to(config.device)\n",
    "    n_epochs = config.n_epochs\n",
    "\n",
    "    print(\"BEGIN TRAINING...\")\n",
    "    train_loss_history=[]\n",
    "    val_loss_history=[]\n",
    "    \n",
    "    train_f1score_history=[]\n",
    "    val_f1score_history=[]\n",
    "    for epoch in range(n_epochs):\n",
    "        print(\"EPOCH \", epoch+1)\n",
    "        ## TRAIN PHASE :\n",
    "        losses = []\n",
    "        scores = []\n",
    "        for embed, targets in tqdm(train_dataloader):\n",
    "            embed, targets = embed.to(config.device), targets.to(config.device)\n",
    "            optimizer.zero_grad()\n",
    "            preds = model(embed)\n",
    "            loss= CrossEntropy(preds, targets)\n",
    "            score=f1_score(preds, targets)\n",
    "            losses.append(loss.item()) \n",
    "            scores.append(score.item())\n",
    "            loss.backward()\n",
    "            optimizer.step()\n",
    "        avg_loss = np.mean(losses)\n",
    "        avg_score = np.mean(scores)\n",
    "        print(\"Running Average TRAIN Loss : \", avg_loss)\n",
    "        print(\"Running Average TRAIN F1-Score : \", avg_score)\n",
    "        train_loss_history.append(avg_loss)\n",
    "        train_f1score_history.append(avg_score)\n",
    "        \n",
    "        ## VALIDATION PHASE : \n",
    "        losses = []\n",
    "        scores = []\n",
    "        for embed, targets in val_dataloader:\n",
    "            embed, targets = embed.to(config.device), targets.to(config.device)\n",
    "            preds = model(embed)\n",
    "            loss= CrossEntropy(preds, targets)\n",
    "            score=f1_score(preds, targets)\n",
    "            losses.append(loss.item())\n",
    "            scores.append(score.item())\n",
    "        avg_loss = np.mean(losses)\n",
    "        avg_score = np.mean(scores)\n",
    "        print(\"Running Average VAL Loss : \", avg_loss)\n",
    "        print(\"Running Average VAL F1-Score : \", avg_score)\n",
    "        val_loss_history.append(avg_loss)\n",
    "        val_f1score_history.append(avg_score)\n",
    "        \n",
    "        scheduler.step(avg_loss)\n",
    "        print(\"\\n\")\n",
    "        \n",
    "    print(\"TRAINING FINISHED\")\n",
    "    print(\"FINAL TRAINING SCORE : \", train_f1score_history[-1])\n",
    "    print(\"FINAL VALIDATION SCORE : \", val_f1score_history[-1])\n",
    "    \n",
    "    losses_history = {\"train\" : train_loss_history, \"val\" : val_loss_history}\n",
    "    scores_history = {\"train\" : train_f1score_history, \"val\" : val_f1score_history}\n",
    "    \n",
    "    return model, losses_history, scores_history"
   ]
  },
  {
   "cell_type": "markdown",
   "id": "ee457f23",
   "metadata": {
    "papermill": {
     "duration": 0.010702,
     "end_time": "2023-05-23T19:49:42.937262",
     "exception": false,
     "start_time": "2023-05-23T19:49:42.926560",
     "status": "completed"
    },
    "tags": []
   },
   "source": [
    "## 7.1. Training Usecase"
   ]
  },
  {
   "cell_type": "code",
   "execution_count": 10,
   "id": "c193d6cb",
   "metadata": {
    "execution": {
     "iopub.execute_input": "2023-05-23T19:49:42.960689Z",
     "iopub.status.busy": "2023-05-23T19:49:42.959833Z",
     "iopub.status.idle": "2023-05-23T19:52:07.230170Z",
     "shell.execute_reply": "2023-05-23T19:52:07.229025Z"
    },
    "papermill": {
     "duration": 144.285087,
     "end_time": "2023-05-23T19:52:07.233189",
     "exception": false,
     "start_time": "2023-05-23T19:49:42.948102",
     "status": "completed"
    },
    "tags": []
   },
   "outputs": [
    {
     "name": "stdout",
     "output_type": "stream",
     "text": [
      "BEGIN TRAINING...\n",
      "EPOCH  1\n"
     ]
    },
    {
     "name": "stderr",
     "output_type": "stream",
     "text": [
      "100%|██████████| 1001/1001 [00:24<00:00, 40.41it/s]\n"
     ]
    },
    {
     "name": "stdout",
     "output_type": "stream",
     "text": [
      "Running Average TRAIN Loss :  132.13281922240358\n",
      "Running Average TRAIN F1-Score :  0.16095056932244625\n",
      "Running Average VAL Loss :  131.52973992483956\n",
      "Running Average VAL F1-Score :  0.18403908237814903\n",
      "\n",
      "\n",
      "EPOCH  2\n"
     ]
    },
    {
     "name": "stderr",
     "output_type": "stream",
     "text": [
      "100%|██████████| 1001/1001 [00:22<00:00, 45.49it/s]\n"
     ]
    },
    {
     "name": "stdout",
     "output_type": "stream",
     "text": [
      "Running Average TRAIN Loss :  128.68029548119117\n",
      "Running Average TRAIN F1-Score :  0.19338115458781427\n",
      "Running Average VAL Loss :  130.08056729180473\n",
      "Running Average VAL F1-Score :  0.2016841613554529\n",
      "\n",
      "\n",
      "EPOCH  3\n"
     ]
    },
    {
     "name": "stderr",
     "output_type": "stream",
     "text": [
      "100%|██████████| 1001/1001 [00:22<00:00, 44.34it/s]\n"
     ]
    },
    {
     "name": "stdout",
     "output_type": "stream",
     "text": [
      "Running Average TRAIN Loss :  127.36735648232383\n",
      "Running Average TRAIN F1-Score :  0.2049714029728473\n",
      "Running Average VAL Loss :  129.18222590855189\n",
      "Running Average VAL F1-Score :  0.2085122045661722\n",
      "\n",
      "\n",
      "EPOCH  4\n"
     ]
    },
    {
     "name": "stderr",
     "output_type": "stream",
     "text": [
      "100%|██████████| 1001/1001 [00:22<00:00, 44.09it/s]\n"
     ]
    },
    {
     "name": "stdout",
     "output_type": "stream",
     "text": [
      "Running Average TRAIN Loss :  126.33541521039996\n",
      "Running Average TRAIN F1-Score :  0.21430072043980514\n",
      "Running Average VAL Loss :  128.36341088158744\n",
      "Running Average VAL F1-Score :  0.21461261436343193\n",
      "\n",
      "\n",
      "EPOCH  5\n"
     ]
    },
    {
     "name": "stderr",
     "output_type": "stream",
     "text": [
      "100%|██████████| 1001/1001 [00:22<00:00, 44.29it/s]\n"
     ]
    },
    {
     "name": "stdout",
     "output_type": "stream",
     "text": [
      "Running Average TRAIN Loss :  125.4231575614327\n",
      "Running Average TRAIN F1-Score :  0.2227430688840645\n",
      "Running Average VAL Loss :  127.7400336265564\n",
      "Running Average VAL F1-Score :  0.22297737414815597\n",
      "\n",
      "\n",
      "TRAINING FINISHED\n",
      "FINAL TRAINING SCORE :  0.2227430688840645\n",
      "FINAL VALIDATION SCORE :  0.22297737414815597\n"
     ]
    }
   ],
   "source": [
    "ems2_model, ems2_losses, ems2_scores = train_model(embeddings_source=\"EMS2\",model_type=\"linear\")"
   ]
  },
  {
   "cell_type": "code",
   "execution_count": 11,
   "id": "05a6201c",
   "metadata": {
    "execution": {
     "iopub.execute_input": "2023-05-23T19:52:07.405490Z",
     "iopub.status.busy": "2023-05-23T19:52:07.405134Z",
     "iopub.status.idle": "2023-05-23T19:54:24.989137Z",
     "shell.execute_reply": "2023-05-23T19:54:24.988157Z"
    },
    "papermill": {
     "duration": 137.672703,
     "end_time": "2023-05-23T19:54:24.991390",
     "exception": false,
     "start_time": "2023-05-23T19:52:07.318687",
     "status": "completed"
    },
    "tags": []
   },
   "outputs": [
    {
     "name": "stdout",
     "output_type": "stream",
     "text": [
      "BEGIN TRAINING...\n",
      "EPOCH  1\n"
     ]
    },
    {
     "name": "stderr",
     "output_type": "stream",
     "text": [
      "100%|██████████| 1001/1001 [00:22<00:00, 44.11it/s]\n"
     ]
    },
    {
     "name": "stdout",
     "output_type": "stream",
     "text": [
      "Running Average TRAIN Loss :  131.48060739766825\n",
      "Running Average TRAIN F1-Score :  0.16808721616670683\n",
      "Running Average VAL Loss :  128.20863934925623\n",
      "Running Average VAL F1-Score :  0.19261606623019492\n",
      "\n",
      "\n",
      "EPOCH  2\n"
     ]
    },
    {
     "name": "stderr",
     "output_type": "stream",
     "text": [
      "100%|██████████| 1001/1001 [00:22<00:00, 43.85it/s]\n"
     ]
    },
    {
     "name": "stdout",
     "output_type": "stream",
     "text": [
      "Running Average TRAIN Loss :  127.60447950487013\n",
      "Running Average TRAIN F1-Score :  0.2038544215909489\n",
      "Running Average VAL Loss :  127.1017998967852\n",
      "Running Average VAL F1-Score :  0.2098224889487028\n",
      "\n",
      "\n",
      "EPOCH  3\n"
     ]
    },
    {
     "name": "stderr",
     "output_type": "stream",
     "text": [
      "100%|██████████| 1001/1001 [00:22<00:00, 43.62it/s]\n"
     ]
    },
    {
     "name": "stdout",
     "output_type": "stream",
     "text": [
      "Running Average TRAIN Loss :  126.10869200532134\n",
      "Running Average TRAIN F1-Score :  0.21749980417224435\n",
      "Running Average VAL Loss :  126.21460444586617\n",
      "Running Average VAL F1-Score :  0.2178889862926943\n",
      "\n",
      "\n",
      "EPOCH  4\n"
     ]
    },
    {
     "name": "stderr",
     "output_type": "stream",
     "text": [
      "100%|██████████| 1001/1001 [00:22<00:00, 45.37it/s]\n"
     ]
    },
    {
     "name": "stdout",
     "output_type": "stream",
     "text": [
      "Running Average TRAIN Loss :  124.86489669235793\n",
      "Running Average TRAIN F1-Score :  0.22889518050047067\n",
      "Running Average VAL Loss :  125.52365098680768\n",
      "Running Average VAL F1-Score :  0.22505248723817722\n",
      "\n",
      "\n",
      "EPOCH  5\n"
     ]
    },
    {
     "name": "stderr",
     "output_type": "stream",
     "text": [
      "100%|██████████| 1001/1001 [00:22<00:00, 44.37it/s]\n"
     ]
    },
    {
     "name": "stdout",
     "output_type": "stream",
     "text": [
      "Running Average TRAIN Loss :  123.71728078897421\n",
      "Running Average TRAIN F1-Score :  0.23902340269053018\n",
      "Running Average VAL Loss :  124.77559512002128\n",
      "Running Average VAL F1-Score :  0.232782176562718\n",
      "\n",
      "\n",
      "TRAINING FINISHED\n",
      "FINAL TRAINING SCORE :  0.23902340269053018\n",
      "FINAL VALIDATION SCORE :  0.232782176562718\n"
     ]
    }
   ],
   "source": [
    "t5_model, t5_losses, t5_scores = train_model(embeddings_source=\"T5\",model_type=\"linear\")"
   ]
  },
  {
   "cell_type": "code",
   "execution_count": 12,
   "id": "010617d3",
   "metadata": {
    "execution": {
     "iopub.execute_input": "2023-05-23T19:54:25.313289Z",
     "iopub.status.busy": "2023-05-23T19:54:25.312944Z",
     "iopub.status.idle": "2023-05-23T19:56:31.793961Z",
     "shell.execute_reply": "2023-05-23T19:56:31.791826Z"
    },
    "papermill": {
     "duration": 126.643776,
     "end_time": "2023-05-23T19:56:31.796196",
     "exception": false,
     "start_time": "2023-05-23T19:54:25.152420",
     "status": "completed"
    },
    "tags": []
   },
   "outputs": [
    {
     "name": "stdout",
     "output_type": "stream",
     "text": [
      "BEGIN TRAINING...\n",
      "EPOCH  1\n"
     ]
    },
    {
     "name": "stderr",
     "output_type": "stream",
     "text": [
      "100%|██████████| 1001/1001 [00:22<00:00, 44.25it/s]\n"
     ]
    },
    {
     "name": "stdout",
     "output_type": "stream",
     "text": [
      "Running Average TRAIN Loss :  131.6215550273091\n",
      "Running Average TRAIN F1-Score :  0.16693301996091506\n",
      "Running Average VAL Loss :  127.40966360909599\n",
      "Running Average VAL F1-Score :  0.1915538821901594\n",
      "\n",
      "\n",
      "EPOCH  2\n"
     ]
    },
    {
     "name": "stderr",
     "output_type": "stream",
     "text": [
      "100%|██████████| 1001/1001 [00:22<00:00, 43.91it/s]\n"
     ]
    },
    {
     "name": "stdout",
     "output_type": "stream",
     "text": [
      "Running Average TRAIN Loss :  127.71888973758175\n",
      "Running Average TRAIN F1-Score :  0.20160774234589282\n",
      "Running Average VAL Loss :  125.74331419808524\n",
      "Running Average VAL F1-Score :  0.2019081392458507\n",
      "\n",
      "\n",
      "EPOCH  3\n"
     ]
    },
    {
     "name": "stderr",
     "output_type": "stream",
     "text": [
      "100%|██████████| 1001/1001 [00:22<00:00, 44.29it/s]\n"
     ]
    },
    {
     "name": "stdout",
     "output_type": "stream",
     "text": [
      "Running Average TRAIN Loss :  126.22753785063813\n",
      "Running Average TRAIN F1-Score :  0.21486701476169037\n",
      "Running Average VAL Loss :  124.79004301343646\n",
      "Running Average VAL F1-Score :  0.21114460192620754\n",
      "\n",
      "\n",
      "EPOCH  4\n"
     ]
    },
    {
     "name": "stderr",
     "output_type": "stream",
     "text": [
      "100%|██████████| 1001/1001 [00:22<00:00, 45.10it/s]\n"
     ]
    },
    {
     "name": "stdout",
     "output_type": "stream",
     "text": [
      "Running Average TRAIN Loss :  125.0451279677354\n",
      "Running Average TRAIN F1-Score :  0.22578041596369786\n",
      "Running Average VAL Loss :  123.8828889301845\n",
      "Running Average VAL F1-Score :  0.22127933254731552\n",
      "\n",
      "\n",
      "EPOCH  5\n"
     ]
    },
    {
     "name": "stderr",
     "output_type": "stream",
     "text": [
      "100%|██████████| 1001/1001 [00:22<00:00, 43.68it/s]\n"
     ]
    },
    {
     "name": "stdout",
     "output_type": "stream",
     "text": [
      "Running Average TRAIN Loss :  123.90492519870267\n",
      "Running Average TRAIN F1-Score :  0.23635985289182102\n",
      "Running Average VAL Loss :  123.56138392857143\n",
      "Running Average VAL F1-Score :  0.22681810254497187\n",
      "\n",
      "\n",
      "TRAINING FINISHED\n",
      "FINAL TRAINING SCORE :  0.23635985289182102\n",
      "FINAL VALIDATION SCORE :  0.22681810254497187\n"
     ]
    }
   ],
   "source": [
    "protbert_model, protbert_losses, protbert_scores = train_model(embeddings_source=\"T5\",model_type=\"linear\")"
   ]
  },
  {
   "cell_type": "markdown",
   "id": "581310ac",
   "metadata": {
    "papermill": {
     "duration": 0.239551,
     "end_time": "2023-05-23T19:56:32.271385",
     "exception": false,
     "start_time": "2023-05-23T19:56:32.031834",
     "status": "completed"
    },
    "tags": []
   },
   "source": [
    "## 7.3. Train/Val Losses "
   ]
  },
  {
   "cell_type": "code",
   "execution_count": 13,
   "id": "320e7b89",
   "metadata": {
    "execution": {
     "iopub.execute_input": "2023-05-23T19:56:32.743446Z",
     "iopub.status.busy": "2023-05-23T19:56:32.743095Z",
     "iopub.status.idle": "2023-05-23T19:56:33.313502Z",
     "shell.execute_reply": "2023-05-23T19:56:33.312603Z"
    },
    "papermill": {
     "duration": 0.809386,
     "end_time": "2023-05-23T19:56:33.315601",
     "exception": false,
     "start_time": "2023-05-23T19:56:32.506215",
     "status": "completed"
    },
    "tags": []
   },
   "outputs": [
    {
     "data": {
      "image/png": "[encoded data removed]",
      "text/plain": [
       "<Figure size 1000x400 with 1 Axes>"
      ]
     },
     "metadata": {},
     "output_type": "display_data"
    },
    {
     "data": {
      "image/png": "[encoded data removed]",
      "text/plain": [
       "<Figure size 1000x400 with 1 Axes>"
      ]
     },
     "metadata": {},
     "output_type": "display_data"
    }
   ],
   "source": [
    "plt.figure(figsize = (10, 4))\n",
    "plt.plot(ems2_losses[\"val\"], label = \"EMS2\")\n",
    "plt.plot(t5_losses[\"val\"], label = \"T5\")\n",
    "plt.plot(protbert_losses[\"val\"], label = \"ProtBERT\")\n",
    "plt.title(\"Validation Losses for # Vector Embeddings\")\n",
    "plt.xlabel(\"Epochs\")\n",
    "plt.ylabel(\"Average Loss\")\n",
    "plt.legend()\n",
    "plt.show()\n",
    "\n",
    "plt.figure(figsize = (10, 4))\n",
    "plt.plot(ems2_scores[\"val\"], label = \"EMS2\")\n",
    "plt.plot(t5_scores[\"val\"], label = \"T5\")\n",
    "plt.plot(protbert_scores[\"val\"], label = \"ProtBERT\")\n",
    "plt.title(\"Validation F1-Scores for # Vector Embeddings\")\n",
    "plt.xlabel(\"Epochs\")\n",
    "plt.ylabel(\"Average F1-Score\")\n",
    "plt.legend()\n",
    "plt.show()"
   ]
  },
  {
   "cell_type": "markdown",
   "id": "98b011aa",
   "metadata": {
    "papermill": {
     "duration": 0.236999,
     "end_time": "2023-05-23T19:56:33.790847",
     "exception": false,
     "start_time": "2023-05-23T19:56:33.553848",
     "status": "completed"
    },
    "tags": []
   },
   "source": [
    "# 8. Pytorch Lightning module"
   ]
  },
  {
   "cell_type": "code",
   "execution_count": 14,
   "id": "c20a6c5b",
   "metadata": {
    "execution": {
     "iopub.execute_input": "2023-05-23T19:56:34.277209Z",
     "iopub.status.busy": "2023-05-23T19:56:34.276839Z",
     "iopub.status.idle": "2023-05-23T19:56:34.293524Z",
     "shell.execute_reply": "2023-05-23T19:56:34.292641Z"
    },
    "papermill": {
     "duration": 0.267234,
     "end_time": "2023-05-23T19:56:34.295555",
     "exception": false,
     "start_time": "2023-05-23T19:56:34.028321",
     "status": "completed"
    },
    "tags": []
   },
   "outputs": [],
   "source": [
    "class Linear_Lightning(pl.LightningModule):\n",
    "    def __init__(self, input_dim, num_classes, train_size, **hparams):\n",
    "        super(Linear_Lightning, self).__init__()\n",
    "        self.linear1 = torch.nn.Linear(input_dim, 1012)\n",
    "        self.activation1 = torch.nn.ReLU()\n",
    "        self.linear2 = torch.nn.Linear(1012, 712)\n",
    "        self.activation2 = torch.nn.ReLU()\n",
    "        self.linear3 = torch.nn.Linear(712, num_classes)\n",
    "        \n",
    "        train_dataset = ProteinSequenceDataset(datatype=\"train\", embeddings_source = embeddings_source)\n",
    "        self.train_set, self.val_set = random_split(train_dataset, lengths = [int(len(train_dataset)*train_size), len(train_dataset)-int(len(train_dataset)*train_size)])\n",
    "        self.loss_fn = torch.nn.CrossEntropyLoss()\n",
    "        \n",
    "        self.batch_size = batch_size\n",
    "        self.lr = lr\n",
    "        \n",
    "        self.f1_score = MultilabelF1Score(num_labels=num_classes)\n",
    "        self.accuracy = MultilabelAccuracy(num_labels=num_classes)\n",
    "\n",
    "    def forward(self, x):\n",
    "        x = self.linear1(x)\n",
    "        x = self.activation1(x)\n",
    "        x = self.linear2(x)\n",
    "        x = self.activation2(x)\n",
    "        x = self.linear3(x)\n",
    "        return x\n",
    "    \n",
    "    def training_step(self, batch, batch_idx):\n",
    "        embed, targets = batch\n",
    "        preds = self(embed)\n",
    "        loss = self.loss_fn(preds, targets)\n",
    "        f1_score = self.f1_score(preds, targets)\n",
    "        acc_score = self.accuracy(preds, targets)\n",
    "        \n",
    "        logs = {\"train_loss\" : loss, \"f1_score\" : f1_score, \"accuracy_score\" : acc_score}\n",
    "        self.log_dict(\n",
    "            logs,\n",
    "            on_step=True, on_epoch=True, prog_bar=True, logger=True\n",
    "        )\n",
    "        return {\"loss\":loss, \"log\" : logs}\n",
    "    \n",
    "    def validation_step(self, batch, batch_idx):\n",
    "        embed, targets = batch\n",
    "        preds = self(embed)\n",
    "        loss= self.loss_fn(preds, targets)\n",
    "        f1_score = self.f1_score(preds, targets)\n",
    "        acc_score = self.accuracy(preds, targets)\n",
    "        \n",
    "        return {\"val_loss\":loss, \"f1_score\" : f1_score, \"accuracy_score\" : acc_score}\n",
    "    \n",
    "    def validation_end(self, outputs):\n",
    "        avg_loss = torch.stack([x[\"val_loss\"] for x in ouputs]).mean()\n",
    "        logs = {\"val_loss\" : avg_loss}\n",
    "        self.log_dict(\n",
    "            logs,\n",
    "            on_step=True, on_epoch=True, prog_bar=True, logger=True\n",
    "        )\n",
    "        return {\"avg_val_loss\" : avg_loss, \"log\" : logs}\n",
    "        \n",
    "    def val_dataloader(self):\n",
    "        val_dataloader = torch.utils.data.DataLoader(self.val_set, batch_size=config.batch_size, shuffle=False,)\n",
    "        return val_dataloader\n",
    "\n",
    "\n",
    "    def configure_optimizers(self):\n",
    "        optimizer = torch.optim.Adam(self.parameters(), lr=self.lr)\n",
    "        return optimizer\n",
    "    \n",
    "    def train_dataloader(self):\n",
    "        train_dataloader = torch.utils.data.DataLoader(self.train_set, batch_size=self.batch_size, shuffle=False)\n",
    "        return train_dataloader"
   ]
  },
  {
   "cell_type": "markdown",
   "id": "37690794",
   "metadata": {
    "execution": {
     "iopub.execute_input": "2023-05-11T21:06:26.807432Z",
     "iopub.status.busy": "2023-05-11T21:06:26.806291Z",
     "iopub.status.idle": "2023-05-11T21:06:30.034869Z",
     "shell.execute_reply": "2023-05-11T21:06:30.033213Z",
     "shell.execute_reply.started": "2023-05-11T21:06:26.807367Z"
    },
    "papermill": {
     "duration": 0.237554,
     "end_time": "2023-05-23T19:56:34.769464",
     "exception": false,
     "start_time": "2023-05-23T19:56:34.531910",
     "status": "completed"
    },
    "tags": []
   },
   "source": [
    "## IN PROGRESS\n",
    "```python\n",
    "param_grid = {\n",
    "    \"batch_size\" : [8, 16, 32, 64],\n",
    "    \"lr\" : [1e-4, 1e-3, 1e-2]\n",
    "}\n",
    "\n",
    "embeddings_source = \"T5\"\n",
    "\n",
    "runs_count=0\n",
    "for batch_size in param_grid[\"batch_size\"]:\n",
    "    for lr in param_grid[\"lr\"]:\n",
    "        runs_count+=1\n",
    "        print(\"NEW SESSION RUN (number \"+str(runs_count)+\")\")\n",
    "        print(\"batch size : \", batch_size)\n",
    "        print(\"learning rate : \", lr)\n",
    "        \n",
    "        run_name = \"Adam-\"+str(batch_size)+\"-\"+str(lr)\n",
    "        \n",
    "        logger = WandbLogger(\n",
    "            name = run_name,\n",
    "            project=\"mlp_model_cafa5\",\n",
    "            job_type=\"train\"\n",
    "        )\n",
    "\n",
    "        trainer = Trainer(\n",
    "            max_epochs=1,\n",
    "            limit_train_batches=5000,\n",
    "            logger=logger\n",
    "        )\n",
    "        model = Linear_Lightning(\n",
    "            input_dim=embeds_dim[embeddings_source],\n",
    "            num_classes=config.num_labels,\n",
    "            train_size=0.8\n",
    "        )\n",
    "\n",
    "        trainer.fit(model)\n",
    "```"
   ]
  },
  {
   "cell_type": "markdown",
   "id": "3052a01a",
   "metadata": {
    "_kg_hide-input": true,
    "papermill": {
     "duration": 0.312788,
     "end_time": "2023-05-23T19:56:35.371676",
     "exception": false,
     "start_time": "2023-05-23T19:56:35.058888",
     "status": "completed"
    },
    "tags": []
   },
   "source": [
    "```python\n",
    "# Define sweep config\n",
    "sweep_configuration = {\n",
    "    'method': 'random',\n",
    "    'name': 'sweep',\n",
    "    'metric': {'goal': 'maximize', 'name': 'val_acc'},\n",
    "    'parameters': \n",
    "    {\n",
    "        'batch_size': {'values': [16, 32, 64]},\n",
    "        'epochs': {'values': [5, 10, 15]},\n",
    "        'lr': {'max': 0.1, 'min': 0.0001}\n",
    "     }\n",
    "}\n",
    "\n",
    "# Initialize sweep by passing in config. \n",
    "# (Optional) Provide a name of the project.\n",
    "sweep_id = wandb.sweep(\n",
    "  sweep=sweep_configuration, \n",
    "  project='my-first-sweep'\n",
    "  )\n",
    "\n",
    "# Define training function that takes in hyperparameter \n",
    "# values from `wandb.config` and uses them to train a \n",
    "# model and return metric\n",
    "def train_one_epoch(epoch, lr, bs): \n",
    "  acc = 0.25 + ((epoch/30) +  (random.random()/10))\n",
    "  loss = 0.2 + (1 - ((epoch-1)/10 +  random.random()/5))\n",
    "  return acc, loss\n",
    "\n",
    "def evaluate_one_epoch(epoch): \n",
    "  acc = 0.1 + ((epoch/20) +  (random.random()/10))\n",
    "  loss = 0.25 + (1 - ((epoch-1)/10 +  random.random()/6))\n",
    "  return acc, loss\n",
    "\n",
    "def main():\n",
    "    run = wandb.init()\n",
    "\n",
    "    lr  =  wandb.config.lr\n",
    "    bs = wandb.config.batch_size\n",
    "    epochs = wandb.config.epochs\n",
    "\n",
    "    for epoch in np.arange(1, epochs):\n",
    "      train_acc, train_loss = train_one_epoch(epoch, lr, bs)\n",
    "      val_acc, val_loss = evaluate_one_epoch(epoch)\n",
    "\n",
    "      wandb.log({\n",
    "        'epoch': epoch, \n",
    "        'train_acc': train_acc,\n",
    "        'train_loss': train_loss, \n",
    "        'val_acc': val_acc, \n",
    "        'val_loss': val_loss\n",
    "      })\n",
    "\n",
    "# Start sweep job.\n",
    "wandb.agent(sweep_id, function=main, count=4)\n",
    "```"
   ]
  },
  {
   "cell_type": "markdown",
   "id": "c5c30d65",
   "metadata": {
    "papermill": {
     "duration": 0.237622,
     "end_time": "2023-05-23T19:56:35.852683",
     "exception": false,
     "start_time": "2023-05-23T19:56:35.615061",
     "status": "completed"
    },
    "tags": []
   },
   "source": [
    "# 9. Make Predictions"
   ]
  },
  {
   "cell_type": "code",
   "execution_count": 15,
   "id": "704bcdf1",
   "metadata": {
    "execution": {
     "iopub.execute_input": "2023-05-23T19:56:36.332201Z",
     "iopub.status.busy": "2023-05-23T19:56:36.331861Z",
     "iopub.status.idle": "2023-05-23T19:56:36.342521Z",
     "shell.execute_reply": "2023-05-23T19:56:36.341659Z"
    },
    "papermill": {
     "duration": 0.254041,
     "end_time": "2023-05-23T19:56:36.344483",
     "exception": false,
     "start_time": "2023-05-23T19:56:36.090442",
     "status": "completed"
    },
    "tags": []
   },
   "outputs": [],
   "source": [
    "def predict(embeddings_source):\n",
    "    \n",
    "    test_dataset = ProteinSequenceDataset(datatype=\"test\", embeddings_source = embeddings_source)\n",
    "    test_dataloader = torch.utils.data.DataLoader(test_dataset, batch_size=1, shuffle=False)\n",
    "    \n",
    "    if embeddings_source == \"T5\":\n",
    "        model = t5_model\n",
    "    if embeddings_source == \"ProtBERT\":\n",
    "        model = protbert_model\n",
    "    if embeddings_source == \"EMS2\":\n",
    "        model = ems2_model\n",
    "        \n",
    "    model.eval()\n",
    "    \n",
    "    labels = pd.read_csv(config.train_labels_path, sep = \"\\t\")\n",
    "    top_terms = labels.groupby(\"term\")[\"EntryID\"].count().sort_values(ascending=False)\n",
    "    labels_names = top_terms[:config.num_labels].index.values\n",
    "    print(\"GENERATE PREDICTION FOR TEST SET...\")\n",
    "\n",
    "    ids_ = np.empty(shape=(len(test_dataloader)*config.num_labels,), dtype=object)\n",
    "    go_terms_ = np.empty(shape=(len(test_dataloader)*config.num_labels,), dtype=object)\n",
    "    confs_ = np.empty(shape=(len(test_dataloader)*config.num_labels,), dtype=np.float32)\n",
    "\n",
    "    for i, (embed, id) in tqdm(enumerate(test_dataloader)):\n",
    "        embed = embed.to(config.device)\n",
    "        confs_[i*config.num_labels:(i+1)*config.num_labels] = torch.nn.functional.sigmoid(model(embed)).squeeze().detach().cpu().numpy()\n",
    "        ids_[i*config.num_labels:(i+1)*config.num_labels] = id[0]\n",
    "        go_terms_[i*config.num_labels:(i+1)*config.num_labels] = labels_names\n",
    "\n",
    "    submission_df = pd.DataFrame(data={\"Id\" : ids_, \"GO term\" : go_terms_, \"Confidence\" : confs_})\n",
    "    print(\"PREDICTIONS DONE\")\n",
    "    return submission_df"
   ]
  },
  {
   "cell_type": "code",
   "execution_count": 16,
   "id": "6d2161a0",
   "metadata": {
    "execution": {
     "iopub.execute_input": "2023-05-23T19:56:36.818525Z",
     "iopub.status.busy": "2023-05-23T19:56:36.818170Z",
     "iopub.status.idle": "2023-05-23T19:58:21.909165Z",
     "shell.execute_reply": "2023-05-23T19:58:21.907545Z"
    },
    "papermill": {
     "duration": 105.330395,
     "end_time": "2023-05-23T19:58:21.911314",
     "exception": false,
     "start_time": "2023-05-23T19:56:36.580919",
     "status": "completed"
    },
    "tags": []
   },
   "outputs": [
    {
     "name": "stdout",
     "output_type": "stream",
     "text": [
      "GENERATE PREDICTION FOR TEST SET...\n"
     ]
    },
    {
     "name": "stderr",
     "output_type": "stream",
     "text": [
      "141865it [01:26, 1632.94it/s]\n"
     ]
    },
    {
     "name": "stdout",
     "output_type": "stream",
     "text": [
      "PREDICTIONS DONE\n"
     ]
    }
   ],
   "source": [
    "submission_df = predict(\"T5\")"
   ]
  },
  {
   "cell_type": "code",
   "execution_count": 17,
   "id": "d2d7b767",
   "metadata": {
    "execution": {
     "iopub.execute_input": "2023-05-23T19:58:22.557349Z",
     "iopub.status.busy": "2023-05-23T19:58:22.556456Z",
     "iopub.status.idle": "2023-05-23T19:58:22.571735Z",
     "shell.execute_reply": "2023-05-23T19:58:22.570817Z"
    },
    "papermill": {
     "duration": 0.3156,
     "end_time": "2023-05-23T19:58:22.573671",
     "exception": false,
     "start_time": "2023-05-23T19:58:22.258071",
     "status": "completed"
    },
    "tags": []
   },
   "outputs": [
    {
     "data": {
      "text/html": [
       "<div>\n",
       "<style scoped>\n",
       "    .dataframe tbody tr th:only-of-type {\n",
       "        vertical-align: middle;\n",
       "    }\n",
       "\n",
       "    .dataframe tbody tr th {\n",
       "        vertical-align: top;\n",
       "    }\n",
       "\n",
       "    .dataframe thead th {\n",
       "        text-align: right;\n",
       "    }\n",
       "</style>\n",
       "<table border=\"1\" class=\"dataframe\">\n",
       "  <thead>\n",
       "    <tr style=\"text-align: right;\">\n",
       "      <th></th>\n",
       "      <th>Id</th>\n",
       "      <th>GO term</th>\n",
       "      <th>Confidence</th>\n",
       "    </tr>\n",
       "  </thead>\n",
       "  <tbody>\n",
       "    <tr>\n",
       "      <th>0</th>\n",
       "      <td>Q9CQV8</td>\n",
       "      <td>GO:0005575</td>\n",
       "      <td>0.900064</td>\n",
       "    </tr>\n",
       "    <tr>\n",
       "      <th>1</th>\n",
       "      <td>Q9CQV8</td>\n",
       "      <td>GO:0008150</td>\n",
       "      <td>0.867761</td>\n",
       "    </tr>\n",
       "    <tr>\n",
       "      <th>2</th>\n",
       "      <td>Q9CQV8</td>\n",
       "      <td>GO:0110165</td>\n",
       "      <td>0.901626</td>\n",
       "    </tr>\n",
       "    <tr>\n",
       "      <th>3</th>\n",
       "      <td>Q9CQV8</td>\n",
       "      <td>GO:0003674</td>\n",
       "      <td>0.889680</td>\n",
       "    </tr>\n",
       "    <tr>\n",
       "      <th>4</th>\n",
       "      <td>Q9CQV8</td>\n",
       "      <td>GO:0005622</td>\n",
       "      <td>0.902334</td>\n",
       "    </tr>\n",
       "    <tr>\n",
       "      <th>5</th>\n",
       "      <td>Q9CQV8</td>\n",
       "      <td>GO:0009987</td>\n",
       "      <td>0.812841</td>\n",
       "    </tr>\n",
       "    <tr>\n",
       "      <th>6</th>\n",
       "      <td>Q9CQV8</td>\n",
       "      <td>GO:0043226</td>\n",
       "      <td>0.858717</td>\n",
       "    </tr>\n",
       "    <tr>\n",
       "      <th>7</th>\n",
       "      <td>Q9CQV8</td>\n",
       "      <td>GO:0043229</td>\n",
       "      <td>0.843688</td>\n",
       "    </tr>\n",
       "    <tr>\n",
       "      <th>8</th>\n",
       "      <td>Q9CQV8</td>\n",
       "      <td>GO:0005488</td>\n",
       "      <td>0.896320</td>\n",
       "    </tr>\n",
       "    <tr>\n",
       "      <th>9</th>\n",
       "      <td>Q9CQV8</td>\n",
       "      <td>GO:0043227</td>\n",
       "      <td>0.853645</td>\n",
       "    </tr>\n",
       "    <tr>\n",
       "      <th>10</th>\n",
       "      <td>Q9CQV8</td>\n",
       "      <td>GO:0005737</td>\n",
       "      <td>0.876586</td>\n",
       "    </tr>\n",
       "    <tr>\n",
       "      <th>11</th>\n",
       "      <td>Q9CQV8</td>\n",
       "      <td>GO:0043231</td>\n",
       "      <td>0.829169</td>\n",
       "    </tr>\n",
       "    <tr>\n",
       "      <th>12</th>\n",
       "      <td>Q9CQV8</td>\n",
       "      <td>GO:0005515</td>\n",
       "      <td>0.891556</td>\n",
       "    </tr>\n",
       "    <tr>\n",
       "      <th>13</th>\n",
       "      <td>Q9CQV8</td>\n",
       "      <td>GO:0065007</td>\n",
       "      <td>0.853134</td>\n",
       "    </tr>\n",
       "    <tr>\n",
       "      <th>14</th>\n",
       "      <td>Q9CQV8</td>\n",
       "      <td>GO:0050789</td>\n",
       "      <td>0.852532</td>\n",
       "    </tr>\n",
       "    <tr>\n",
       "      <th>15</th>\n",
       "      <td>Q9CQV8</td>\n",
       "      <td>GO:0050794</td>\n",
       "      <td>0.842019</td>\n",
       "    </tr>\n",
       "    <tr>\n",
       "      <th>16</th>\n",
       "      <td>Q9CQV8</td>\n",
       "      <td>GO:0050896</td>\n",
       "      <td>0.770935</td>\n",
       "    </tr>\n",
       "    <tr>\n",
       "      <th>17</th>\n",
       "      <td>Q9CQV8</td>\n",
       "      <td>GO:0008152</td>\n",
       "      <td>0.415390</td>\n",
       "    </tr>\n",
       "    <tr>\n",
       "      <th>18</th>\n",
       "      <td>Q9CQV8</td>\n",
       "      <td>GO:0032501</td>\n",
       "      <td>0.723110</td>\n",
       "    </tr>\n",
       "    <tr>\n",
       "      <th>19</th>\n",
       "      <td>Q9CQV8</td>\n",
       "      <td>GO:0005634</td>\n",
       "      <td>0.799325</td>\n",
       "    </tr>\n",
       "    <tr>\n",
       "      <th>20</th>\n",
       "      <td>Q9CQV8</td>\n",
       "      <td>GO:0032502</td>\n",
       "      <td>0.759954</td>\n",
       "    </tr>\n",
       "    <tr>\n",
       "      <th>21</th>\n",
       "      <td>Q9CQV8</td>\n",
       "      <td>GO:0071704</td>\n",
       "      <td>0.370919</td>\n",
       "    </tr>\n",
       "    <tr>\n",
       "      <th>22</th>\n",
       "      <td>Q9CQV8</td>\n",
       "      <td>GO:0048856</td>\n",
       "      <td>0.723710</td>\n",
       "    </tr>\n",
       "    <tr>\n",
       "      <th>23</th>\n",
       "      <td>Q9CQV8</td>\n",
       "      <td>GO:0016020</td>\n",
       "      <td>0.649729</td>\n",
       "    </tr>\n",
       "    <tr>\n",
       "      <th>24</th>\n",
       "      <td>Q9CQV8</td>\n",
       "      <td>GO:0003824</td>\n",
       "      <td>0.095611</td>\n",
       "    </tr>\n",
       "    <tr>\n",
       "      <th>25</th>\n",
       "      <td>Q9CQV8</td>\n",
       "      <td>GO:0044237</td>\n",
       "      <td>0.399210</td>\n",
       "    </tr>\n",
       "    <tr>\n",
       "      <th>26</th>\n",
       "      <td>Q9CQV8</td>\n",
       "      <td>GO:0044238</td>\n",
       "      <td>0.336300</td>\n",
       "    </tr>\n",
       "    <tr>\n",
       "      <th>27</th>\n",
       "      <td>Q9CQV8</td>\n",
       "      <td>GO:0007275</td>\n",
       "      <td>0.649753</td>\n",
       "    </tr>\n",
       "    <tr>\n",
       "      <th>28</th>\n",
       "      <td>Q9CQV8</td>\n",
       "      <td>GO:0006807</td>\n",
       "      <td>0.363557</td>\n",
       "    </tr>\n",
       "    <tr>\n",
       "      <th>29</th>\n",
       "      <td>Q9CQV8</td>\n",
       "      <td>GO:0071944</td>\n",
       "      <td>0.679587</td>\n",
       "    </tr>\n",
       "    <tr>\n",
       "      <th>30</th>\n",
       "      <td>Q9CQV8</td>\n",
       "      <td>GO:0071840</td>\n",
       "      <td>0.569050</td>\n",
       "    </tr>\n",
       "    <tr>\n",
       "      <th>31</th>\n",
       "      <td>Q9CQV8</td>\n",
       "      <td>GO:0019222</td>\n",
       "      <td>0.798793</td>\n",
       "    </tr>\n",
       "    <tr>\n",
       "      <th>32</th>\n",
       "      <td>Q9CQV8</td>\n",
       "      <td>GO:0016043</td>\n",
       "      <td>0.572601</td>\n",
       "    </tr>\n",
       "    <tr>\n",
       "      <th>33</th>\n",
       "      <td>Q9CQV8</td>\n",
       "      <td>GO:0048518</td>\n",
       "      <td>0.723952</td>\n",
       "    </tr>\n",
       "    <tr>\n",
       "      <th>34</th>\n",
       "      <td>Q9CQV8</td>\n",
       "      <td>GO:0005829</td>\n",
       "      <td>0.830274</td>\n",
       "    </tr>\n",
       "    <tr>\n",
       "      <th>35</th>\n",
       "      <td>Q9CQV8</td>\n",
       "      <td>GO:0043170</td>\n",
       "      <td>0.368060</td>\n",
       "    </tr>\n",
       "    <tr>\n",
       "      <th>36</th>\n",
       "      <td>Q9CQV8</td>\n",
       "      <td>GO:0048731</td>\n",
       "      <td>0.608044</td>\n",
       "    </tr>\n",
       "    <tr>\n",
       "      <th>37</th>\n",
       "      <td>Q9CQV8</td>\n",
       "      <td>GO:0060255</td>\n",
       "      <td>0.806616</td>\n",
       "    </tr>\n",
       "    <tr>\n",
       "      <th>38</th>\n",
       "      <td>Q9CQV8</td>\n",
       "      <td>GO:0051716</td>\n",
       "      <td>0.689961</td>\n",
       "    </tr>\n",
       "    <tr>\n",
       "      <th>39</th>\n",
       "      <td>Q9CQV8</td>\n",
       "      <td>GO:0005886</td>\n",
       "      <td>0.677324</td>\n",
       "    </tr>\n",
       "    <tr>\n",
       "      <th>40</th>\n",
       "      <td>Q9CQV8</td>\n",
       "      <td>GO:0032991</td>\n",
       "      <td>0.623301</td>\n",
       "    </tr>\n",
       "    <tr>\n",
       "      <th>41</th>\n",
       "      <td>Q9CQV8</td>\n",
       "      <td>GO:0043228</td>\n",
       "      <td>0.587384</td>\n",
       "    </tr>\n",
       "    <tr>\n",
       "      <th>42</th>\n",
       "      <td>Q9CQV8</td>\n",
       "      <td>GO:0043232</td>\n",
       "      <td>0.592115</td>\n",
       "    </tr>\n",
       "    <tr>\n",
       "      <th>43</th>\n",
       "      <td>Q9CQV8</td>\n",
       "      <td>GO:0031974</td>\n",
       "      <td>0.547076</td>\n",
       "    </tr>\n",
       "    <tr>\n",
       "      <th>44</th>\n",
       "      <td>Q9CQV8</td>\n",
       "      <td>GO:0043233</td>\n",
       "      <td>0.558651</td>\n",
       "    </tr>\n",
       "    <tr>\n",
       "      <th>45</th>\n",
       "      <td>Q9CQV8</td>\n",
       "      <td>GO:0070013</td>\n",
       "      <td>0.564178</td>\n",
       "    </tr>\n",
       "    <tr>\n",
       "      <th>46</th>\n",
       "      <td>Q9CQV8</td>\n",
       "      <td>GO:0048519</td>\n",
       "      <td>0.758483</td>\n",
       "    </tr>\n",
       "    <tr>\n",
       "      <th>47</th>\n",
       "      <td>Q9CQV8</td>\n",
       "      <td>GO:0048522</td>\n",
       "      <td>0.697091</td>\n",
       "    </tr>\n",
       "    <tr>\n",
       "      <th>48</th>\n",
       "      <td>Q9CQV8</td>\n",
       "      <td>GO:0080090</td>\n",
       "      <td>0.768944</td>\n",
       "    </tr>\n",
       "    <tr>\n",
       "      <th>49</th>\n",
       "      <td>Q9CQV8</td>\n",
       "      <td>GO:0031323</td>\n",
       "      <td>0.733299</td>\n",
       "    </tr>\n",
       "  </tbody>\n",
       "</table>\n",
       "</div>"
      ],
      "text/plain": [
       "        Id     GO term  Confidence\n",
       "0   Q9CQV8  GO:0005575    0.900064\n",
       "1   Q9CQV8  GO:0008150    0.867761\n",
       "2   Q9CQV8  GO:0110165    0.901626\n",
       "3   Q9CQV8  GO:0003674    0.889680\n",
       "4   Q9CQV8  GO:0005622    0.902334\n",
       "5   Q9CQV8  GO:0009987    0.812841\n",
       "6   Q9CQV8  GO:0043226    0.858717\n",
       "7   Q9CQV8  GO:0043229    0.843688\n",
       "8   Q9CQV8  GO:0005488    0.896320\n",
       "9   Q9CQV8  GO:0043227    0.853645\n",
       "10  Q9CQV8  GO:0005737    0.876586\n",
       "11  Q9CQV8  GO:0043231    0.829169\n",
       "12  Q9CQV8  GO:0005515    0.891556\n",
       "13  Q9CQV8  GO:0065007    0.853134\n",
       "14  Q9CQV8  GO:0050789    0.852532\n",
       "15  Q9CQV8  GO:0050794    0.842019\n",
       "16  Q9CQV8  GO:0050896    0.770935\n",
       "17  Q9CQV8  GO:0008152    0.415390\n",
       "18  Q9CQV8  GO:0032501    0.723110\n",
       "19  Q9CQV8  GO:0005634    0.799325\n",
       "20  Q9CQV8  GO:0032502    0.759954\n",
       "21  Q9CQV8  GO:0071704    0.370919\n",
       "22  Q9CQV8  GO:0048856    0.723710\n",
       "23  Q9CQV8  GO:0016020    0.649729\n",
       "24  Q9CQV8  GO:0003824    0.095611\n",
       "25  Q9CQV8  GO:0044237    0.399210\n",
       "26  Q9CQV8  GO:0044238    0.336300\n",
       "27  Q9CQV8  GO:0007275    0.649753\n",
       "28  Q9CQV8  GO:0006807    0.363557\n",
       "29  Q9CQV8  GO:0071944    0.679587\n",
       "30  Q9CQV8  GO:0071840    0.569050\n",
       "31  Q9CQV8  GO:0019222    0.798793\n",
       "32  Q9CQV8  GO:0016043    0.572601\n",
       "33  Q9CQV8  GO:0048518    0.723952\n",
       "34  Q9CQV8  GO:0005829    0.830274\n",
       "35  Q9CQV8  GO:0043170    0.368060\n",
       "36  Q9CQV8  GO:0048731    0.608044\n",
       "37  Q9CQV8  GO:0060255    0.806616\n",
       "38  Q9CQV8  GO:0051716    0.689961\n",
       "39  Q9CQV8  GO:0005886    0.677324\n",
       "40  Q9CQV8  GO:0032991    0.623301\n",
       "41  Q9CQV8  GO:0043228    0.587384\n",
       "42  Q9CQV8  GO:0043232    0.592115\n",
       "43  Q9CQV8  GO:0031974    0.547076\n",
       "44  Q9CQV8  GO:0043233    0.558651\n",
       "45  Q9CQV8  GO:0070013    0.564178\n",
       "46  Q9CQV8  GO:0048519    0.758483\n",
       "47  Q9CQV8  GO:0048522    0.697091\n",
       "48  Q9CQV8  GO:0080090    0.768944\n",
       "49  Q9CQV8  GO:0031323    0.733299"
      ]
     },
     "execution_count": 17,
     "metadata": {},
     "output_type": "execute_result"
    }
   ],
   "source": [
    "submission_df.head(50)"
   ]
  },
  {
   "cell_type": "code",
   "execution_count": 18,
   "id": "d122128a",
   "metadata": {
    "execution": {
     "iopub.execute_input": "2023-05-23T19:58:23.177621Z",
     "iopub.status.busy": "2023-05-23T19:58:23.175551Z",
     "iopub.status.idle": "2023-05-23T19:58:23.182625Z",
     "shell.execute_reply": "2023-05-23T19:58:23.181798Z"
    },
    "papermill": {
     "duration": 0.309973,
     "end_time": "2023-05-23T19:58:23.184616",
     "exception": false,
     "start_time": "2023-05-23T19:58:22.874643",
     "status": "completed"
    },
    "tags": []
   },
   "outputs": [
    {
     "data": {
      "text/plain": [
       "70932500"
      ]
     },
     "execution_count": 18,
     "metadata": {},
     "output_type": "execute_result"
    }
   ],
   "source": [
    "len(submission_df)"
   ]
  },
  {
   "cell_type": "code",
   "execution_count": 19,
   "id": "7397c497",
   "metadata": {
    "execution": {
     "iopub.execute_input": "2023-05-23T19:58:23.783767Z",
     "iopub.status.busy": "2023-05-23T19:58:23.783408Z",
     "iopub.status.idle": "2023-05-23T20:02:37.834325Z",
     "shell.execute_reply": "2023-05-23T20:02:37.833235Z"
    },
    "papermill": {
     "duration": 254.354465,
     "end_time": "2023-05-23T20:02:37.837043",
     "exception": false,
     "start_time": "2023-05-23T19:58:23.482578",
     "status": "completed"
    },
    "tags": []
   },
   "outputs": [],
   "source": [
    "submission_df.to_csv('submission.tsv', sep='\\t', index=False)"
   ]
  },
  {
   "cell_type": "markdown",
   "id": "c9766e2a",
   "metadata": {
    "papermill": {
     "duration": 0.385346,
     "end_time": "2023-05-23T20:02:38.522952",
     "exception": false,
     "start_time": "2023-05-23T20:02:38.137606",
     "status": "completed"
    },
    "tags": []
   },
   "source": [
    "### *I appreciate any feedback or Upvote as support*\n",
    "### *Also open for teaming, contact me in comments or mp*"
   ]
  }
 ],
 "metadata": {
  "kernelspec": {
   "display_name": "Python 3",
   "language": "python",
   "name": "python3"
  },
  "language_info": {
   "codemirror_mode": {
    "name": "ipython",
    "version": 3
   },
   "file_extension": ".py",
   "mimetype": "text/x-python",
   "name": "python",
   "nbconvert_exporter": "python",
   "pygments_lexer": "ipython3",
   "version": "3.10.10"
  },
  "papermill": {
   "default_parameters": {},
   "duration": 804.576796,
   "end_time": "2023-05-23T20:02:41.810909",
   "environment_variables": {},
   "exception": null,
   "input_path": "__notebook__.ipynb",
   "output_path": "__notebook__.ipynb",
   "parameters": {},
   "start_time": "2023-05-23T19:49:17.234113",
   "version": "2.4.0"
  }
 },
 "nbformat": 4,
 "nbformat_minor": 5
}
